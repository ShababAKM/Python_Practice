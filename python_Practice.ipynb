{
 "cells": [
  {
   "cell_type": "markdown",
   "metadata": {},
   "source": [
    "## Function\n",
    "\n",
    "An example of the usages of function in python"
   ]
  },
  {
   "cell_type": "code",
   "execution_count": 2,
   "metadata": {
    "tags": []
   },
   "outputs": [
    {
     "output_type": "stream",
     "name": "stdout",
     "text": "the addition of x & y :  10\nthe substraction of x & y :  5\nthe multiplication of x & y :  10\nthe divition of x & y :  5.0\nThank you\n"
    }
   ],
   "source": [
    "def add(x,y):\n",
    "    return x+y\n",
    "def substract(x,y):\n",
    "    return  x-y\n",
    "def multiplication(x,y):\n",
    "    return x*y\n",
    "def divition(x,y):\n",
    "    return x/y\n",
    "x=0\n",
    "y=0\n",
    "s = input(\"Enter 1 if you want to add, 2 to sunstract, 3 to multiply & 4 to divide  else enter 0 : \")\n",
    "while s!=\"0\":\n",
    "    if s==\"1\":\n",
    "        x = int(input(\"enter first number x : \"))\n",
    "        y = int(input(\"enter second number y : \"))\n",
    "        print(\"the addition of x & y : \", add(x,y))\n",
    "        s = input(\"Enter 1 if you want to add, 2 to sunstract, 3 to multiply & 4 to divide  else enter 0 : \")\n",
    "    elif s==\"2\":\n",
    "        x = int(input(\"enter first number x : \"))\n",
    "        y = int(input(\"enter second number y : \"))\n",
    "        print(\"the substraction of x & y : \", substract(x,y))\n",
    "        s = input(\"Enter 1 if you want to add, 2 to sunstract, 3 to multiply & 4 to divide  else enter 0 : \")\n",
    "    elif s==\"3\":\n",
    "        x = int(input(\"enter first number x : \"))\n",
    "        y = int(input(\"enter second number y : \"))\n",
    "        print(\"the multiplication of x & y : \", multiplication(x,y))\n",
    "        s = input(\"Enter 1 if you want to add, 2 to sunstract, 3 to multiply & 4 to divide  else enter 0 : \")\n",
    "    elif s==\"4\":\n",
    "        x = int(input(\"enter first number x : \"))\n",
    "        y = int(input(\"enter second number y : \"))\n",
    "        print(\"the divition of x & y : \", divition(x,y))\n",
    "        s = input(\"Enter 1 if you want to add, 2 to sunstract, 3 to multiply & 4 to divide  else enter 0 : \")\n",
    "    else:\n",
    "        if s!=\"0\":\n",
    "            print(\"you enterd wrong input\")\n",
    "            s = input(\"Enter 1 if you want to add, 2 to sunstract, 3 to multiply & 4 to divide  else enter 0 : \")\n",
    "print(\"Thank you\")"
   ]
  },
  {
   "cell_type": "markdown",
   "metadata": {},
   "source": [
    "## Loop\n",
    "\n",
    "An example of the usages of Loop in python"
   ]
  },
  {
   "cell_type": "code",
   "execution_count": 2,
   "metadata": {
    "tags": []
   },
   "outputs": [
    {
     "output_type": "stream",
     "name": "stdout",
     "text": "lets print Fibonacciseries upto 20 numbers :\n0\nEnter for Loop\n1\n1\n2\n3\n5\n8\n13\n21\n34\n55\n89\n144\n233\n377\n610\n987\n1597\n2584\n4181\n6765\n"
    }
   ],
   "source": [
    "print(\"lets print Fibonacciseries upto 20 numbers :\")\n",
    "num1=0\n",
    "num2=0\n",
    "print(num1)\n",
    "print(\"Enter for Loop\")\n",
    "for i in range(20):\n",
    "    if i==0:\n",
    "        num1=num1+1\n",
    "    else:\n",
    "        num3=num1\n",
    "        num1=num1+num2\n",
    "        num2=num3\n",
    "    print(num1)"
   ]
  },
  {
   "cell_type": "code",
   "execution_count": 3,
   "metadata": {
    "tags": []
   },
   "outputs": [
    {
     "output_type": "stream",
     "name": "stdout",
     "text": "lets print Fibonacciseries upto 20 numbers :\n0\nEnter while Loop\n1\n1\n2\n3\n5\n8\n13\n21\n34\n55\n89\n144\n233\n377\n610\n987\n1597\n2584\n4181\n6765\n"
    }
   ],
   "source": [
    "\n",
    "print(\"lets print Fibonacciseries upto 20 numbers :\")\n",
    "num1=0\n",
    "num2=0\n",
    "print(num1)\n",
    "print(\"Enter while Loop\")\n",
    "w=0\n",
    "while w<20:\n",
    "    if w==0:\n",
    "        num1=num1+1\n",
    "    else:\n",
    "        num3=num1\n",
    "        num1=num1+num2\n",
    "        num2=num3\n",
    "    print(num1)\n",
    "    w=w+1"
   ]
  },
  {
   "cell_type": "markdown",
   "metadata": {},
   "source": [
    "## Condition\n",
    "\n",
    "An example of the usages of condition (if_else) in python"
   ]
  },
  {
   "cell_type": "code",
   "execution_count": 4,
   "metadata": {
    "tags": []
   },
   "outputs": [
    {
     "output_type": "stream",
     "name": "stdout",
     "text": "The number  1  is odd\n"
    }
   ],
   "source": [
    "number = input(\"Enter a number to check -> \");\n",
    "if int(number)%2==0:\n",
    "    print(\"The number \",number, \" is even\");\n",
    "else:\n",
    "    print(\"The number \",number, \" is odd\");"
   ]
  },
  {
   "cell_type": "code",
   "execution_count": 5,
   "metadata": {
    "tags": []
   },
   "outputs": [
    {
     "output_type": "stream",
     "name": "stdout",
     "text": "The number  0  is ZERO!\n"
    }
   ],
   "source": [
    "number = input(\"Enter a number to check -> \");\n",
    "\n",
    "if int(number)>0:\n",
    "    print(\"The number \",number, \" is positive\");\n",
    "elif int(number)==0:\n",
    "    print(\"The number \",number, \" is ZERO!\");\n",
    "else:\n",
    "    print(\"The number \",number, \" is negetive\");"
   ]
  },
  {
   "cell_type": "markdown",
   "metadata": {},
   "source": [
    "## String\n",
    "\n",
    "An example of the usages of strings in python"
   ]
  },
  {
   "cell_type": "code",
   "execution_count": 77,
   "metadata": {
    "tags": []
   },
   "outputs": [
    {
     "output_type": "stream",
     "name": "stdout",
     "text": "shabab\n----------\nshabab's\n----------\nShabab's\n----------\n8\n----------\nS\n----------\nS\nh\na\nb\na\nb\n'\ns\n"
    }
   ],
   "source": [
    "s = 'shabab'\n",
    "print(s)\n",
    "print(\"----------\")\n",
    "s = 'shabab\\'s' #a method of printing like -> (shabab's)\n",
    "print(s)\n",
    "print(\"----------\")\n",
    "s = \"Shabab's\" #a method of printing like ->  (shabab's)\n",
    "print(s)\n",
    "print(\"----------\")\n",
    "print(len(s))\n",
    "print(\"----------\")\n",
    "print(s[0])\n",
    "print(\"----------\")\n",
    "for c in s:\n",
    "    print(c)"
   ]
  },
  {
   "cell_type": "code",
   "execution_count": 76,
   "metadata": {
    "tags": []
   },
   "outputs": [
    {
     "output_type": "stream",
     "name": "stdout",
     "text": "s\nh\na\nb\na\nb\n----------\n['A', 'b', 'C']\n----------\nBangladesh & Bangladesh\n"
    }
   ],
   "source": [
    "s = 'shabab'\n",
    "A=\"Bangla\"\n",
    "B=\"desh\"\n",
    "country=A+B\n",
    "\n",
    "for c in s:\n",
    "    print(c)\n",
    "print(\"----------\")\n",
    "C=['A','b','C']\n",
    "print(C)\n",
    "print(\"----------\")\n",
    "print(A+B,\"&\",country)"
   ]
  },
  {
   "cell_type": "markdown",
   "metadata": {},
   "source": [
    "find() to find a specific string in a string, if we find what we nwwd it returns the first index where the string is found else prints -1"
   ]
  },
  {
   "cell_type": "code",
   "execution_count": 75,
   "metadata": {
    "tags": []
   },
   "outputs": [
    {
     "output_type": "stream",
     "name": "stdout",
     "text": "55\n6\n"
    }
   ],
   "source": [
    "x=50\n",
    "y=5\n",
    "print(x+y)\n",
    "print(country.find('desh'))"
   ]
  },
  {
   "cell_type": "code",
   "execution_count": 74,
   "metadata": {
    "tags": []
   },
   "outputs": [
    {
     "output_type": "stream",
     "name": "stdout",
     "text": "North Korea \n South Korea \nSouth Korea\nBANGLADESH\nbangladesh\n['South', 'Korea']\n"
    }
   ],
   "source": [
    "country=A+B\n",
    "country2=\" North Korea \"\n",
    "\n",
    "print(country2)\n",
    "country2=country2.replace(\"North\",\"South\") #to replace a part into a string\n",
    "print(country2)\n",
    "\n",
    "#lstrip()->clears the extra spaces in string (left);rstrip()->clears the extra spaces in string (right);strip()->clears the extra spaces in string\n",
    "print(country2.strip())\n",
    "\n",
    "#upper() method turns all the letter case in a string in 'UPPER CASE'\n",
    "print(country.upper())\n",
    "#lower() method turns all the letter case in a string in 'lower case'\n",
    "print(country.lower())\n",
    "\n",
    "print(country2.split())"
   ]
  },
  {
   "cell_type": "code",
   "execution_count": 73,
   "metadata": {
    "tags": []
   },
   "outputs": [
    {
     "output_type": "stream",
     "name": "stdout",
     "text": "2\nTrue\nFalse\n"
    }
   ],
   "source": [
    "A=\"Bangla\"\n",
    "B=\"desh\"\n",
    "country=A+B\n",
    "text=\"ba ba black sheep\"\n",
    "print(text.count('ba')) #to count how many times a substring is in the string\n",
    "print(country.startswith('Ban'))\n",
    "print(country.endswith('Desh'))"
   ]
  },
  {
   "cell_type": "code",
   "execution_count": 5,
   "metadata": {
    "tags": []
   },
   "outputs": [
    {
     "output_type": "stream",
     "name": "stdout",
     "text": "a 1\nb 1\nc 1\nd 1\ne 2\nf 1\ng 1\nh 1\ni 1\nj 1\nk 1\nl 1\nm 1\nn 1\no 4\np 1\nq 1\nr 2\ns 1\nt 1\nu 2\nv 1\nw 1\nx 1\ny 1\nz 1\n"
    }
   ],
   "source": [
    "Str = 'the quick brown fox jumps over lazy dog'\n",
    "for c in \"abcdefghijklmnopqrstuvwxyz\":\n",
    "    print(c,Str.count(c))"
   ]
  },
  {
   "cell_type": "markdown",
   "metadata": {},
   "source": [
    "###   Practice question 1:  \n",
    "write a programme which takes a string input & returns 4 strings where one consists uppercase, another lowercase\n",
    "####    another numbers & another consists of any other characters"
   ]
  },
  {
   "cell_type": "code",
   "execution_count": 70,
   "metadata": {
    "tags": []
   },
   "outputs": [
    {
     "output_type": "stream",
     "name": "stdout",
     "text": "SAA\nhbb\n123\n=!\n"
    }
   ],
   "source": [
    "Str = input(\"Enter a string which consists numbers,letters or any other character : \")\n",
    "U=''\n",
    "l=''\n",
    "num=''\n",
    "oc=''\n",
    "for c in Str:\n",
    "    if c in text.upper():\n",
    "        U=U+c\n",
    "    elif c in text:\n",
    "        l=l+c\n",
    "    elif c in '0123456789':\n",
    "        num=num+c\n",
    "    else:\n",
    "        if c!=' ':\n",
    "            oc=oc+c\n",
    "print(U)\n",
    "print(l)\n",
    "print(num)\n",
    "print(oc)"
   ]
  },
  {
   "cell_type": "markdown",
   "metadata": {},
   "source": [
    "###   Practice question 2:\n",
    "  write a programme which takes a string input & swaps between 2 letters(1<->2, 3<->4, 5<->6)"
   ]
  },
  {
   "cell_type": "code",
   "execution_count": 71,
   "metadata": {
    "tags": []
   },
   "outputs": [
    {
     "output_type": "stream",
     "name": "stdout",
     "text": "hsbaba\n"
    }
   ],
   "source": [
    "Str = input(\"Enter a string : \")\n",
    "str2=''\n",
    "for c in range(len(Str)):\n",
    "    if c%2==0:\n",
    "        str2=str2+Str[c+1]+Str[c]\n",
    "print(str2)"
   ]
  },
  {
   "cell_type": "markdown",
   "metadata": {},
   "source": [
    "###   Find if a word is palindrome or not"
   ]
  },
  {
   "cell_type": "code",
   "execution_count": 72,
   "metadata": {
    "tags": []
   },
   "outputs": [
    {
     "output_type": "stream",
     "name": "stdout",
     "text": "madam  is a palindrome\n"
    }
   ],
   "source": [
    "str = input(\"Enter a string to check palindrome : \")\n",
    "c = len(str)-1\n",
    "str2=''\n",
    "while c>=0:\n",
    "    str2=str2+str[c]\n",
    "    c=c-1\n",
    "if str==str2:\n",
    "    print(str2,\" is a palindrome\")\n",
    "else:\n",
    "    print(str2,\" is not a palindrome\")"
   ]
  },
  {
   "cell_type": "markdown",
   "metadata": {},
   "source": [
    "#   Python Data Structure"
   ]
  },
  {
   "cell_type": "markdown",
   "metadata": {},
   "source": [
    "##   1.List"
   ]
  },
  {
   "cell_type": "code",
   "execution_count": 1,
   "metadata": {
    "tags": []
   },
   "outputs": [
    {
     "output_type": "stream",
     "name": "stdout",
     "text": "['Bangladesh', 'India', 'Pakistan', 'Sri Lanka', 'Nepal', 'Bhutan', 'Maldivs']\n"
    }
   ],
   "source": [
    "saarc=[\"Bangladesh\",\"India\",\"Pakistan\",\"Sri Lanka\",\"Nepal\",\"Bhutan\",\"Maldivs\"]\n",
    "print(saarc)"
   ]
  },
  {
   "cell_type": "markdown",
   "metadata": {},
   "source": [
    "### append() to add in the list"
   ]
  },
  {
   "cell_type": "code",
   "execution_count": 2,
   "metadata": {
    "tags": []
   },
   "outputs": [
    {
     "output_type": "stream",
     "name": "stdout",
     "text": "['Bangladesh', 'India', 'Pakistan', 'Sri Lanka', 'Nepal', 'Bhutan', 'Maldivs', 'Afghanistan']\n"
    }
   ],
   "source": [
    "saarc.append(\"Afghanistan\")\n",
    "print(saarc)"
   ]
  },
  {
   "cell_type": "markdown",
   "metadata": {},
   "source": [
    "### sort() function to sort the elements of a list in a ascending order"
   ]
  },
  {
   "cell_type": "code",
   "execution_count": 4,
   "metadata": {
    "tags": []
   },
   "outputs": [
    {
     "output_type": "stream",
     "name": "stdout",
     "text": "['Afghanistan', 'Bangladesh', 'Bhutan', 'India', 'Maldivs', 'Nepal', 'Pakistan', 'Sri Lanka']\n[1, 2, 3, 4, 5, 6, 7, 8, 9]\n"
    }
   ],
   "source": [
    "saarc.sort()\n",
    "print(saarc)\n",
    "li=[8,5,2,3,6,9,7,4,1]\n",
    "li.sort()\n",
    "print(li)"
   ]
  },
  {
   "cell_type": "markdown",
   "metadata": {},
   "source": [
    "### reverse() function to sort the elements of a list in a descending order"
   ]
  },
  {
   "cell_type": "code",
   "execution_count": 6,
   "metadata": {
    "tags": []
   },
   "outputs": [
    {
     "output_type": "stream",
     "name": "stdout",
     "text": "[1, 2, 3, 4, 5, 6, 7, 8, 9]\n['Sri Lanka', 'Pakistan', 'Nepal', 'Maldivs', 'India', 'Bhutan', 'Bangladesh', 'Afghanistan']\n"
    }
   ],
   "source": [
    "li.reverse()\n",
    "print(li)\n",
    "saarc.reverse()\n",
    "print(saarc)"
   ]
  },
  {
   "cell_type": "markdown",
   "metadata": {},
   "source": [
    "### insert() \n",
    "to add in the list in any index of the list which works like insert(index number in the list, element that in being inserted)"
   ]
  },
  {
   "cell_type": "code",
   "execution_count": 11,
   "metadata": {
    "tags": []
   },
   "outputs": [
    {
     "output_type": "stream",
     "name": "stdout",
     "text": "['mango', 'orange', 'banana']\n['apple', 'mango', 'orange', 'banana']\n['apple', 'mango', 'orange', 'pineapple', 'banana']\n"
    }
   ],
   "source": [
    "fruits=[\"mango\",\"orange\",\"banana\"]\n",
    "print(fruits)\n",
    "fruits.insert(0,\"apple\")\n",
    "print(fruits)\n",
    "fruits.insert(3,\"pineapple\")\n",
    "print(fruits)"
   ]
  },
  {
   "cell_type": "markdown",
   "metadata": {},
   "source": [
    "### remove() to remove from the list"
   ]
  },
  {
   "cell_type": "code",
   "execution_count": 12,
   "metadata": {
    "tags": []
   },
   "outputs": [
    {
     "output_type": "stream",
     "name": "stdout",
     "text": "['apple', 'mango', 'orange', 'pineapple', 'banana']\n['mango', 'orange', 'pineapple', 'banana']\n"
    }
   ],
   "source": [
    "print(fruits)\n",
    "fruits.remove(\"apple\")\n",
    "print(fruits)"
   ]
  },
  {
   "cell_type": "markdown",
   "metadata": {},
   "source": [
    "### pop()"
   ]
  },
  {
   "cell_type": "code",
   "execution_count": 13,
   "metadata": {
    "tags": []
   },
   "outputs": [
    {
     "output_type": "stream",
     "name": "stdout",
     "text": "[8, 5, 2, 3, 6, 9, 7, 4, 1]\n[8, 5, 2, 3, 6, 9, 7, 4]\n1\n"
    }
   ],
   "source": [
    "li=[8,5,2,3,6,9,7,4,1]\n",
    "print(li)\n",
    "Pop = li.pop()\n",
    "print(li)\n",
    "print(Pop)"
   ]
  },
  {
   "cell_type": "markdown",
   "metadata": {},
   "source": [
    "### pop(index)"
   ]
  },
  {
   "cell_type": "code",
   "execution_count": 14,
   "metadata": {
    "tags": []
   },
   "outputs": [
    {
     "output_type": "stream",
     "name": "stdout",
     "text": "[8, 5, 2, 3, 6, 9, 7, 4]\n[8, 5, 2, 6, 9, 7, 4]\n3\n"
    }
   ],
   "source": [
    "print(li)\n",
    "Pop = li.pop(3)\n",
    "print(li)\n",
    "print(Pop)"
   ]
  },
  {
   "cell_type": "markdown",
   "metadata": {},
   "source": [
    "### count() function to count down how many times a function is in the list"
   ]
  },
  {
   "cell_type": "code",
   "execution_count": 15,
   "metadata": {
    "tags": []
   },
   "outputs": [
    {
     "output_type": "stream",
     "name": "stdout",
     "text": "[8, 5, 2, 8, 6, 9, 7, 8, 1]\n3\n"
    }
   ],
   "source": [
    "li=[8,5,2,8,6,9,7,8,1]\n",
    "print(li)\n",
    "count = li.count(8)\n",
    "print(count)"
   ]
  },
  {
   "cell_type": "markdown",
   "metadata": {},
   "source": [
    "### del() method to delete an element from the list of to delete the whole list"
   ]
  },
  {
   "cell_type": "code",
   "execution_count": 3,
   "metadata": {
    "tags": []
   },
   "outputs": [
    {
     "output_type": "stream",
     "name": "stdout",
     "text": "[8, 5, 2, 3, 6, 9, 7, 4, 1]\n[8, 5, 2, 6, 9, 7, 4, 1]\n"
    },
    {
     "output_type": "error",
     "ename": "NameError",
     "evalue": "name 'li' is not defined",
     "traceback": [
      "\u001b[1;31m---------------------------------------------------------------------------\u001b[0m",
      "\u001b[1;31mNameError\u001b[0m                                 Traceback (most recent call last)",
      "\u001b[1;32m<ipython-input-3-6a2f2fa45b45>\u001b[0m in \u001b[0;36m<module>\u001b[1;34m\u001b[0m\n\u001b[0;32m      4\u001b[0m \u001b[0mprint\u001b[0m\u001b[1;33m(\u001b[0m\u001b[0mli\u001b[0m\u001b[1;33m)\u001b[0m\u001b[1;33m\u001b[0m\u001b[1;33m\u001b[0m\u001b[0m\n\u001b[0;32m      5\u001b[0m \u001b[1;32mdel\u001b[0m\u001b[1;33m(\u001b[0m\u001b[0mli\u001b[0m\u001b[1;33m)\u001b[0m\u001b[1;33m\u001b[0m\u001b[1;33m\u001b[0m\u001b[0m\n\u001b[1;32m----> 6\u001b[1;33m \u001b[0mprint\u001b[0m\u001b[1;33m(\u001b[0m\u001b[0mli\u001b[0m\u001b[1;33m)\u001b[0m\u001b[1;33m\u001b[0m\u001b[1;33m\u001b[0m\u001b[0m\n\u001b[0m",
      "\u001b[1;31mNameError\u001b[0m: name 'li' is not defined"
     ]
    }
   ],
   "source": [
    "li=[8,5,2,3,6,9,7,4,1]\n",
    "print(li)\n",
    "del(li[3])\n",
    "print(li)\n",
    "del(li)\n",
    "print(li)"
   ]
  },
  {
   "cell_type": "markdown",
   "metadata": {},
   "source": [
    "### ---------------"
   ]
  },
  {
   "cell_type": "code",
   "execution_count": 19,
   "metadata": {
    "tags": []
   },
   "outputs": [
    {
     "output_type": "stream",
     "name": "stdout",
     "text": "[0, 1, 2, 3, 4, 5, 6, 7, 8, 9]\n"
    }
   ],
   "source": [
    "li=[]\n",
    "for x in range(10):\n",
    "    li.append(x)\n",
    "print(li)"
   ]
  },
  {
   "cell_type": "markdown",
   "metadata": {},
   "source": [
    "operation(+,*) between the list"
   ]
  },
  {
   "cell_type": "code",
   "execution_count": 21,
   "metadata": {
    "tags": []
   },
   "outputs": [
    {
     "output_type": "stream",
     "name": "stdout",
     "text": "[1, 2, 3, 4, 5, 6]\n[1, 2, 3, 4, 5, 6, 1, 2, 3, 4, 5, 6]\n"
    }
   ],
   "source": [
    "li1=[1,2,3]\n",
    "li2=[4,5,6]\n",
    "li3=li1+li2\n",
    "print(li3)\n",
    "li3=li3*2\n",
    "print(li3)"
   ]
  },
  {
   "cell_type": "markdown",
   "metadata": {},
   "source": [
    "### join() method to join the elements of a list to make a single string"
   ]
  },
  {
   "cell_type": "code",
   "execution_count": 26,
   "metadata": {
    "tags": []
   },
   "outputs": [
    {
     "output_type": "stream",
     "name": "stdout",
     "text": "AKMShabab\nA K M Shabab\nA-K-M-Shabab\n"
    }
   ],
   "source": [
    "li=[\"A\",\"K\",\"M\",\"Shabab\"]\n",
    "str=\"\".join(li)\n",
    "print(str)\n",
    "str=\" \".join(li)\n",
    "print(str)\n",
    "str=\"-\".join(li)\n",
    "print(str)"
   ]
  },
  {
   "cell_type": "markdown",
   "metadata": {},
   "source": [
    "##   list comprehensions"
   ]
  },
  {
   "cell_type": "code",
   "execution_count": 27,
   "metadata": {
    "tags": []
   },
   "outputs": [
    {
     "output_type": "stream",
     "name": "stdout",
     "text": "[0, 1, 2, 3, 4, 5, 6, 7, 8, 9]\n[0, 2, 4, 6, 8, 10, 12, 14, 16, 18]\n"
    }
   ],
   "source": [
    "li=[0,1,2,3,4,5,6,7,8,9]\n",
    "li2=[2*x for x in li]\n",
    "print(li)\n",
    "print(li2)"
   ]
  },
  {
   "cell_type": "code",
   "execution_count": 28,
   "metadata": {
    "tags": []
   },
   "outputs": [
    {
     "output_type": "stream",
     "name": "stdout",
     "text": "[0, 1, 2, 3, 4, 5, 6, 7, 8, 9]\n[2, 4, 6, 8]\n"
    }
   ],
   "source": [
    "li=[0,1,2,3,4,5,6,7,8,9]\n",
    "li2=[x for x in range(1,9) if x%2==0]\n",
    "print(li)\n",
    "print(li2)"
   ]
  },
  {
   "cell_type": "markdown",
   "metadata": {},
   "source": [
    "##  Tuple"
   ]
  },
  {
   "cell_type": "code",
   "execution_count": 1,
   "metadata": {},
   "outputs": [
    {
     "output_type": "execute_result",
     "data": {
      "text/plain": "tuple"
     },
     "metadata": {},
     "execution_count": 1
    }
   ],
   "source": [
    "tuple1=(1,2,3)\n",
    "type(tuple1)"
   ]
  },
  {
   "cell_type": "code",
   "execution_count": 2,
   "metadata": {},
   "outputs": [
    {
     "output_type": "execute_result",
     "data": {
      "text/plain": "tuple"
     },
     "metadata": {},
     "execution_count": 2
    }
   ],
   "source": [
    "tuple2=1,2,3\n",
    "type(tuple2)"
   ]
  },
  {
   "cell_type": "code",
   "execution_count": 3,
   "metadata": {},
   "outputs": [
    {
     "output_type": "execute_result",
     "data": {
      "text/plain": "int"
     },
     "metadata": {},
     "execution_count": 3
    }
   ],
   "source": [
    "x=1\n",
    "type(x)"
   ]
  },
  {
   "cell_type": "code",
   "execution_count": 4,
   "metadata": {},
   "outputs": [
    {
     "output_type": "execute_result",
     "data": {
      "text/plain": "tuple"
     },
     "metadata": {},
     "execution_count": 4
    }
   ],
   "source": [
    "x=()\n",
    "type(x)"
   ]
  },
  {
   "cell_type": "markdown",
   "metadata": {},
   "source": [
    "we can get the elements in the tuple by using tuple inedx"
   ]
  },
  {
   "cell_type": "code",
   "execution_count": 5,
   "metadata": {
    "tags": []
   },
   "outputs": [
    {
     "output_type": "stream",
     "name": "stdout",
     "text": "1\n2\n3\n"
    }
   ],
   "source": [
    "print(tuple1[0])\n",
    "print(tuple1[1])\n",
    "print(tuple1[2])"
   ]
  },
  {
   "cell_type": "markdown",
   "metadata": {},
   "source": [
    "The elements in a tuple can't be eddited like we can do in list"
   ]
  },
  {
   "cell_type": "code",
   "execution_count": 6,
   "metadata": {
    "tags": []
   },
   "outputs": [
    {
     "output_type": "stream",
     "name": "stdout",
     "text": "1\n2\n3\n(1, 2, 3)\n"
    }
   ],
   "source": [
    "i,j,k=tuple1\n",
    "print(i)\n",
    "print(j)\n",
    "print(k)\n",
    "tuple1=i,j,k\n",
    "print(tuple1)"
   ]
  },
  {
   "cell_type": "markdown",
   "metadata": {},
   "source": [
    "loop on a tuple"
   ]
  },
  {
   "cell_type": "code",
   "execution_count": 7,
   "metadata": {
    "tags": []
   },
   "outputs": [
    {
     "output_type": "stream",
     "name": "stdout",
     "text": "1 <class 'int'>\n2 <class 'int'>\n1.1 <class 'float'>\n['a', 'b', 'c'] <class 'list'>\n('string1', 'string2') <class 'tuple'>\n['a', 'b', 'c'] <class 'list'>\nb <class 'str'>\n"
    }
   ],
   "source": [
    "tuple1=(1,2,1.1,[\"a\",\"b\",\"c\"],(\"string1\",\"string2\"))\n",
    "for item in tuple1:\n",
    "    print(item,type(item))\n",
    "print(tuple1[3],type(tuple1[3]))\n",
    "print(tuple1[3][1],type(tuple1[3][1]))"
   ]
  },
  {
   "cell_type": "markdown",
   "metadata": {},
   "source": [
    "list() method converts tuple to list"
   ]
  },
  {
   "cell_type": "code",
   "execution_count": 8,
   "metadata": {
    "tags": []
   },
   "outputs": [
    {
     "output_type": "stream",
     "name": "stdout",
     "text": "[1, 2, 1.1, ['a', 'b', 'c'], ('string1', 'string2')]\n"
    }
   ],
   "source": [
    "li = list(tuple1)\n",
    "print(li)"
   ]
  },
  {
   "cell_type": "markdown",
   "metadata": {},
   "source": [
    "#   SET"
   ]
  },
  {
   "cell_type": "markdown",
   "metadata": {},
   "source": [
    "An empty set"
   ]
  },
  {
   "cell_type": "code",
   "execution_count": 8,
   "metadata": {},
   "outputs": [
    {
     "output_type": "execute_result",
     "data": {
      "text/plain": "set"
     },
     "metadata": {},
     "execution_count": 8
    }
   ],
   "source": [
    "s = set()\n",
    "type(s)"
   ]
  },
  {
   "cell_type": "markdown",
   "metadata": {},
   "source": [
    "A set with element"
   ]
  },
  {
   "cell_type": "code",
   "execution_count": 1,
   "metadata": {
    "tags": []
   },
   "outputs": [
    {
     "output_type": "execute_result",
     "data": {
      "text/plain": "set"
     },
     "metadata": {},
     "execution_count": 1
    }
   ],
   "source": [
    "s = {\"element1\",\"element2\",\"element3\"}\n",
    "type(s)"
   ]
  },
  {
   "cell_type": "markdown",
   "metadata": {},
   "source": [
    "Converting a list or tuple in set"
   ]
  },
  {
   "cell_type": "code",
   "execution_count": 9,
   "metadata": {
    "tags": []
   },
   "outputs": [
    {
     "output_type": "stream",
     "name": "stdout",
     "text": "{1, 2, 3}\n{1, 2, 3}\n"
    }
   ],
   "source": [
    "li=[1,2,3]\n",
    "tp=(1,2,3)\n",
    "s = set(li)\n",
    "print(s)\n",
    "s = set(tp)\n",
    "print(s)"
   ]
  },
  {
   "cell_type": "markdown",
   "metadata": {},
   "source": [
    "We can make a set out of a string. In this case every alphabet will be an element of the set. But they will not follow any order."
   ]
  },
  {
   "cell_type": "code",
   "execution_count": 11,
   "metadata": {
    "tags": []
   },
   "outputs": [
    {
     "output_type": "stream",
     "name": "stdout",
     "text": "{'n', 'o', 't', 'P', 'y', 'h'}\n"
    }
   ],
   "source": [
    "S = set(\"Python\")\n",
    "print(S)"
   ]
  },
  {
   "cell_type": "markdown",
   "metadata": {},
   "source": [
    "To find if someting is an element of a set"
   ]
  },
  {
   "cell_type": "code",
   "execution_count": 22,
   "metadata": {
    "tags": []
   },
   "outputs": [
    {
     "output_type": "stream",
     "name": "stdout",
     "text": "{1, 2, 3}\n1 in s -> True\n4 in s -> False\n"
    }
   ],
   "source": [
    "print(s)\n",
    "print(\"1 in s ->\",1 in s)\n",
    "print(\"4 in s ->\",4 in s)"
   ]
  },
  {
   "cell_type": "markdown",
   "metadata": {},
   "source": [
    "Let A , B are two sets. Now, A&B is set intersection, A|B is set union, A^B to find the uncommon between A & B and A-B is what is to find all that is in only A but not in B"
   ]
  },
  {
   "cell_type": "code",
   "execution_count": 20,
   "metadata": {
    "tags": []
   },
   "outputs": [
    {
     "output_type": "stream",
     "name": "stdout",
     "text": "A-> {1, 2, 3, 4, 5}\nB-> {8, 2, 4, 6}\nA & B-> {2, 4}\nA | B-> {1, 2, 3, 4, 5, 6, 8}\nA ^ B-> {1, 3, 5, 6, 8}\nA - B-> {1, 3, 5}\n"
    }
   ],
   "source": [
    "A = {1,2,3,4,5}\n",
    "B = {2,4,6,8}\n",
    "print(\"A->\",A)\n",
    "print(\"B->\",B)\n",
    "print(\"A & B->\",A&B)\n",
    "print(\"A | B->\",A|B)\n",
    "print(\"A ^ B->\",A^B)\n",
    "print(\"A - B->\",A-B)"
   ]
  },
  {
   "cell_type": "markdown",
   "metadata": {},
   "source": [
    "##  Dictionary\n",
    "A dictionary is a collection which is unordered, changeable and indexed. In Python dictionaries are written with curly brackets, and they have keys and values."
   ]
  },
  {
   "cell_type": "code",
   "execution_count": 2,
   "metadata": {
    "tags": []
   },
   "outputs": [
    {
     "output_type": "stream",
     "name": "stdout",
     "text": "<class 'dict'>\n{'brand': 'Ford', 'model': 'Mustang', 'year': 1964}\n"
    }
   ],
   "source": [
    "car = {\"brand\": \"Ford\",\"model\": \"Mustang\",\"year\": 1964}\n",
    "print(type(car))\n",
    "print(car)"
   ]
  },
  {
   "cell_type": "markdown",
   "metadata": {},
   "source": [
    "Making a empty dictionary & adding elements into it:"
   ]
  },
  {
   "cell_type": "code",
   "execution_count": 7,
   "metadata": {
    "tags": []
   },
   "outputs": [
    {
     "output_type": "stream",
     "name": "stdout",
     "text": "<class 'dict'>\n{1: 'One'}\n{1: 'One', 2: 'Two'}\n{1: 'One', 2: 'Two', 'a': 'A'}\n{1: 'One', 2: 'Two', 'a': 'A', 'b': 'B'}\n"
    }
   ],
   "source": [
    "dic={}\n",
    "print(type(dic))\n",
    "dic[1]=\"One\"\n",
    "print(dic)\n",
    "dic[2]=\"Two\"\n",
    "print(dic)\n",
    "dic['a']='A'\n",
    "print(dic)\n",
    "dic['b']='B'\n",
    "print(dic)"
   ]
  },
  {
   "cell_type": "code",
   "execution_count": null,
   "metadata": {},
   "outputs": [],
   "source": []
  }
 ],
 "metadata": {
  "language_info": {
   "codemirror_mode": {
    "name": "ipython",
    "version": 3
   },
   "file_extension": ".py",
   "mimetype": "text/x-python",
   "name": "python",
   "nbconvert_exporter": "python",
   "pygments_lexer": "ipython3",
   "version": "3.8.3-final"
  },
  "orig_nbformat": 2,
  "kernelspec": {
   "name": "python3",
   "display_name": "Python 3"
  }
 },
 "nbformat": 4,
 "nbformat_minor": 2
}